{
 "cells": [
  {
   "cell_type": "markdown",
   "source": [
    "# Code template for hand-in on reconstruction attacks.\n",
    "\n",
    "Advanced Topics in Machine Learning, U. Copenhagen, fall 2024\n",
    "\n",
    "Created by Rasmus Pagh with minor edits by Thomas Christensen\n",
    "\n",
    "Queries on a hidden dataset x from {-1,+1}^100 can be made via the query method below\n",
    "which calls a web API that allows dot product queries with vectors in {-1,+1}^100.\n",
    "To protect data, Laplace noise is added to responses. Using the techniques you have\n",
    "seen in the lecture it is possible to partially reconstruct the dataset using 200 queries.\n",
    "To make sure that you get a unique challenge, choose any unique string as your challenge\n",
    "identifier. The web API will keep track of the number of queries made for each identifier."
   ],
   "metadata": {
    "collapsed": false
   },
   "id": "e5f9aa9f7a2ab296"
  },
  {
   "cell_type": "markdown",
   "source": [
    "# Support function for querying the web API"
   ],
   "metadata": {
    "collapsed": false
   },
   "id": "f08e63c8f1d64be"
  },
  {
   "cell_type": "code",
   "execution_count": 1,
   "outputs": [],
   "source": [
    "import numpy as np\n",
    "import requests as rq\n",
    "\n",
    "# Retrieve answer to challenge for a given query\n",
    "def query(challenge_id, query_vector, submit=False):\n",
    "    # Only alphanumeric challenge_id and vextor entries in {-1,+1} are allowed:\n",
    "    assert(challenge_id.isalnum())\n",
    "    assert(np.max(np.minimum(np.abs(query_vector-1),np.abs(query_vector+1)))==0)\n",
    "\n",
    "    # if query array is 1d, make it 2d\n",
    "    if query_vector.ndim == 1:\n",
    "        query_vector = query_vector.reshape(1,-1)\n",
    "\n",
    "    payload = { 'challengeid': challenge_id, 'submit': submit,\n",
    "                'query': str(query_vector.tolist()) }\n",
    "    response = rq.post(\"https://baconbreaker.pythonanywhere.com/query\", data = payload).json()\n",
    "    if submit == False:\n",
    "        return np.array(eval(response['result']))\n",
    "    else:\n",
    "        return response['result']"
   ],
   "metadata": {
    "collapsed": false,
    "ExecuteTime": {
     "end_time": "2024-09-18T13:13:12.236430Z",
     "start_time": "2024-09-18T13:13:11.958086Z"
    }
   },
   "id": "a7aa95fcac8f56e2"
  },
  {
   "cell_type": "markdown",
   "source": [
    "# Making random queries to the API"
   ],
   "metadata": {
    "collapsed": false
   },
   "id": "feea0cc76b3a868c"
  },
  {
   "cell_type": "code",
   "execution_count": 15,
   "outputs": [
    {
     "name": "stdout",
     "output_type": "stream",
     "text": [
      "[-10.   9.  -5.  -3.  19.  11. -15.  18.   3. -31.   1.   5.  15.  10.\n",
      "  11.   8.  19.  84.  57. -27. -38.   6.   2.  26.  36. -10.   0. -12.\n",
      " -31.  26. -14.  -3.  -2. -27.  19.   2. -10.  29. -28.  -8. -15.  -3.\n",
      "  23. -22.  15.  29.  -6.   4.  -8.   5. -12.  -9.   9.   5. -14.  15.\n",
      " -11.   5.   2.   1.  -7. -10.  16.  22.   8.   4.   5.   1.   1.  -0.\n",
      "  -7.   1.  19. -22.  -3.   9.  -8.  20.  -1.   3. -11.  -8.  -3.  -4.\n",
      " -33.  -8. -20. -11.   7.   3.   3.  34.   5.   2.  -4.   9.   1.  -7.\n",
      "  10.  -2. -27.  29. -13.   6. -22.   8.   6.  30.  -2. -29. -10.   7.\n",
      " -33.   3.   5.   3. -19.   1.   2.   4.   8.  14.   8.  12.  33.  -8.\n",
      "   2.   6.  -1.   9.   4.   4. -12.  21.   8.   6. -24. -17.   6.  20.\n",
      "  -6.  -7. -20.   3.  -2.  -8.   4.  10.   2. -12.   4. -30.  15. -27.\n",
      "   1.  10. -17.  39.  13.  -3.  15. -20.   4.  -4. -13.  -6.   5.  14.\n",
      "  -6. -23.  -5. -18. -18. -19. -18.  28. -33.  13.  21.  -3.  -7.  10.\n",
      "   0.  10. -29.  15. -18.  13.  11. -24.   2. -12.  -5. -13. -14.  -2.\n",
      "  -1.   9. -13.  -9.]\n"
     ]
    }
   ],
   "source": [
    "challenge_id = 'QWERTY05' # identifier for hidden dataset\n",
    "n = 100 # number of entries in hidden dataset\n",
    "num_queries = 2*n # number of queries to be asked\n",
    "\n",
    "queries = np.random.choice([-1,+1], size=(num_queries,n)) # Set of random queries\n",
    "query_results = query(challenge_id, queries)\n",
    "\n",
    "print(query_results)"
   ],
   "metadata": {
    "collapsed": false,
    "ExecuteTime": {
     "end_time": "2024-09-18T13:17:36.557452Z",
     "start_time": "2024-09-18T13:17:35.840542Z"
    }
   },
   "id": "1fc08f3c358014f"
  },
  {
   "cell_type": "markdown",
   "source": [
    "# Baseline reconstruction attack: Guess equals the best query\n",
    "\n",
    "Copy the notebook and replace with your attack. The first submission for a given challenge_id is stored on the server and on the leaderboard: http://baconbreaker.pythonanywhere.com/leaderboard/?n=100"
   ],
   "metadata": {
    "collapsed": false
   },
   "id": "7ef8272352a0beab"
  },
  {
   "cell_type": "code",
   "execution_count": 3,
   "outputs": [
    {
     "name": "stdout",
     "output_type": "stream",
     "text": [
      "\n",
      "Reconstruction attack achieves fraction 0.58 correct values\n"
     ]
    }
   ],
   "source": [
    "best_query_number = np.argmax(query_results)\n",
    "best_query = queries[best_query_number]\n",
    "best_query_result = query(challenge_id, best_query, submit=True)\n",
    "print(f\"\\nReconstruction attack achieves fraction {(1 + best_query_result / n) / 2} correct values\")"
   ],
   "metadata": {
    "collapsed": false,
    "ExecuteTime": {
     "end_time": "2024-09-18T13:13:30.063480Z",
     "start_time": "2024-09-18T13:13:29.614190Z"
    }
   },
   "id": "3e819c84a1fe8283"
  },
  {
   "cell_type": "code",
   "execution_count": 16,
   "outputs": [
    {
     "name": "stdout",
     "output_type": "stream",
     "text": [
      "x: [ 1  1  1 -1 -1  1  1 -1  1  1  1  1 -1 -1 -1  1  1  1 -1 -1 -1  1 -1 -1\n",
      " -1 -1  1 -1 -1  1  1 -1 -1  1  1 -1 -1 -1 -1 -1  1  1 -1 -1 -1 -1 -1 -1\n",
      "  1 -1  1  1 -1 -1 -1 -1 -1  1 -1  1  1 -1 -1  1 -1  1 -1 -1  1  1 -1 -1\n",
      "  1 -1 -1  1  1 -1 -1 -1 -1 -1 -1  1  1  1  1  1 -1 -1 -1  1 -1  1 -1  1\n",
      " -1 -1 -1 -1]\n",
      "\n",
      "Reconstruction attack achieves fraction 0.8 correct values\n"
     ]
    }
   ],
   "source": [
    "import numpy as np\n",
    "from scipy.optimize import linprog\n",
    "\n",
    "Q = queries\n",
    "y = query_results \n",
    "\n",
    "m, n = Q.shape\n",
    "c = np.hstack([np.zeros(n), np.ones(m)]) \n",
    "\n",
    "A_ub = np.vstack([np.hstack([Q, -np.eye(m)]), np.hstack([-Q, -np.eye(m)])])\n",
    "b_ub = np.hstack([y, -y])\n",
    "\n",
    "bounds = [(-1, 1)] * n + [(0, None)] * m  \n",
    "\n",
    "res = linprog(c, A_ub=A_ub, b_ub=b_ub, bounds=bounds, method='highs')\n",
    "\n",
    "x = res.x[:n]\n",
    "res = np.where(x > 0, 1, -1)\n",
    "print(\"x:\", res)\n",
    "\n",
    "best_query_result = query(challenge_id, res, submit=True)\n",
    "print(f\"\\nReconstruction attack achieves fraction {(1 + best_query_result / n) / 2} correct values\")"
   ],
   "metadata": {
    "collapsed": false,
    "ExecuteTime": {
     "end_time": "2024-09-18T13:17:39.758894Z",
     "start_time": "2024-09-18T13:17:39.344950Z"
    }
   },
   "id": "299b9f8bce7a45b8"
  },
  {
   "cell_type": "code",
   "execution_count": 97,
   "outputs": [
    {
     "data": {
      "text/plain": "array([68.])"
     },
     "execution_count": 97,
     "metadata": {},
     "output_type": "execute_result"
    }
   ],
   "source": [
    "best_query_result"
   ],
   "metadata": {
    "collapsed": false,
    "ExecuteTime": {
     "end_time": "2024-09-16T14:00:18.923341Z",
     "start_time": "2024-09-16T14:00:18.913936Z"
    }
   },
   "id": "9b74021e0104e690"
  },
  {
   "cell_type": "code",
   "execution_count": null,
   "outputs": [],
   "source": [],
   "metadata": {
    "collapsed": false
   },
   "id": "fd63e00da0162a"
  }
 ],
 "metadata": {
  "kernelspec": {
   "display_name": "Python 3",
   "language": "python",
   "name": "python3"
  },
  "language_info": {
   "codemirror_mode": {
    "name": "ipython",
    "version": 2
   },
   "file_extension": ".py",
   "mimetype": "text/x-python",
   "name": "python",
   "nbconvert_exporter": "python",
   "pygments_lexer": "ipython2",
   "version": "2.7.6"
  }
 },
 "nbformat": 4,
 "nbformat_minor": 5
}
